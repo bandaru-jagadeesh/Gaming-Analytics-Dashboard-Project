{
 "cells": [
  {
   "cell_type": "code",
   "execution_count": 29,
   "id": "29bc9e54-9694-4737-9bb4-2c569cbcfacf",
   "metadata": {},
   "outputs": [],
   "source": [
    "#import libraries\n",
    "import pandas as pd\n",
    "import matplotlib.pyplot as plt"
   ]
  },
  {
   "cell_type": "code",
   "execution_count": 31,
   "id": "3f916ba8-e49e-4a27-90ba-a690192b9a81",
   "metadata": {},
   "outputs": [],
   "source": [
    "# Load the dataset\n",
    "data = pd.read_csv(r\"C:\\Users\\bjaga\\OneDrive\\Desktop\\New project\\Gaming Analytics Dashboard Project\\player_data.csv\")  "
   ]
  },
  {
   "cell_type": "code",
   "execution_count": 33,
   "id": "a0e31f21-074b-48fd-bb1d-62cb4a7f44db",
   "metadata": {},
   "outputs": [
    {
     "name": "stdout",
     "output_type": "stream",
     "text": [
      "   player_id game_title  playtime_minutes  retention_days platform  \\\n",
      "0       8270     Game 7               205               8       PC   \n",
      "1       1860     Game 7               475               3  Console   \n",
      "2       6390     Game 3               320              14       PC   \n",
      "3       6191    Game 10               271              28       PC   \n",
      "4       6734    Game 10               428              13  Console   \n",
      "\n",
      "          region  purchase_amount  \n",
      "0  North America            61.40  \n",
      "1           Asia            61.64  \n",
      "2         Europe            45.74  \n",
      "3         Europe            39.69  \n",
      "4         Europe            45.54  \n"
     ]
    }
   ],
   "source": [
    "# Inspect the data\n",
    "print(data.head())"
   ]
  },
  {
   "cell_type": "code",
   "execution_count": 35,
   "id": "92a3b13e-0fbd-44f4-83e9-f9923ab852de",
   "metadata": {},
   "outputs": [],
   "source": [
    "# Data Cleaning\n",
    "data['playtime_hours'] = data['playtime_minutes'] / 60  # Convert playtime to hours\n",
    "data.dropna(subset=['player_id', 'retention_days'], inplace=True)  # Drop missing values"
   ]
  },
  {
   "cell_type": "code",
   "execution_count": 37,
   "id": "1655908a-b418-4569-b374-6b8c9ee25a1a",
   "metadata": {},
   "outputs": [
    {
     "name": "stdout",
     "output_type": "stream",
     "text": [
      "Average Playtime:\n",
      "game_title\n",
      "Game 1     5.254833\n",
      "Game 10    5.367000\n",
      "Game 2     5.293043\n",
      "Game 3     5.117021\n",
      "Game 4     5.319074\n",
      "Game 5     5.551333\n",
      "Game 6     4.900174\n",
      "Game 7     5.538835\n",
      "Game 8     5.102000\n",
      "Game 9     5.137908\n",
      "Name: playtime_hours, dtype: float64\n",
      "Retention Rate:\n",
      "game_title\n",
      "Game 1     15.780000\n",
      "Game 10    15.590000\n",
      "Game 2     15.469565\n",
      "Game 3     13.978723\n",
      "Game 4     14.455556\n",
      "Game 5     14.540000\n",
      "Game 6     16.239583\n",
      "Game 7     15.184466\n",
      "Game 8     16.880000\n",
      "Game 9     14.970588\n",
      "Name: retention_days, dtype: float64\n",
      "Total Unique Players: 947\n"
     ]
    }
   ],
   "source": [
    "# Calculate Metrics\n",
    "average_playtime = data.groupby('game_title')['playtime_hours'].mean()\n",
    "retention_rate = data.groupby('game_title')['retention_days'].mean()\n",
    "player_count = data['player_id'].nunique()\n",
    "print(f\"Average Playtime:\\n{average_playtime}\")\n",
    "print(f\"Retention Rate:\\n{retention_rate}\")\n",
    "print(f\"Total Unique Players: {player_count}\")"
   ]
  },
  {
   "cell_type": "code",
   "execution_count": 39,
   "id": "b4e0c704-f140-4eff-9cbd-81cb02885617",
   "metadata": {},
   "outputs": [
    {
     "name": "stdout",
     "output_type": "stream",
     "text": [
      "Processed data saved for Tableau visualization.\n"
     ]
    }
   ],
   "source": [
    "# Save Processed Data for Tableau\n",
    "processed_data = data.groupby('game_title').agg({\n",
    "    'playtime_hours': 'mean',\n",
    "    'retention_days': 'mean',\n",
    "    'player_id': 'nunique'\n",
    "}).rename(columns={'player_id': 'unique_players'})\n",
    "\n",
    "processed_data.to_csv('processed_player_data.csv')\n",
    "print(\"Processed data saved for Tableau visualization.\")\n",
    "\n"
   ]
  },
  {
   "cell_type": "code",
   "execution_count": 41,
   "id": "693f0cee-66f9-4d2d-a608-603df6cff7bd",
   "metadata": {},
   "outputs": [
    {
     "data": {
      "image/png": "[encoded data removed]",
      "text/plain": [
       "<Figure size 1000x600 with 1 Axes>"
      ]
     },
     "metadata": {},
     "output_type": "display_data"
    }
   ],
   "source": [
    "# Visualization in Python (Optional)\n",
    "plt.figure(figsize=(10, 6))\n",
    "average_playtime.plot(kind='bar', color='skyblue', title='Average Playtime by Game')\n",
    "plt.xlabel('Game Title')\n",
    "plt.ylabel('Playtime (Hours)')\n",
    "plt.tight_layout()\n",
    "plt.show()\n"
   ]
  },
  {
   "cell_type": "code",
   "execution_count": null,
   "id": "0c5ba7ff-45aa-4526-995b-80a037a48ff8",
   "metadata": {},
   "outputs": [],
   "source": []
  }
 ],
 "metadata": {
  "kernelspec": {
   "display_name": "Python 3 (ipykernel)",
   "language": "python",
   "name": "python3"
  },
  "language_info": {
   "codemirror_mode": {
    "name": "ipython",
    "version": 3
   },
   "file_extension": ".py",
   "mimetype": "text/x-python",
   "name": "python",
   "nbconvert_exporter": "python",
   "pygments_lexer": "ipython3",
   "version": "3.12.4"
  }
 },
 "nbformat": 4,
 "nbformat_minor": 5
}
